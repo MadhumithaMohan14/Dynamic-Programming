{
  "nbformat": 4,
  "nbformat_minor": 0,
  "metadata": {
    "colab": {
      "provenance": []
    },
    "kernelspec": {
      "name": "python3",
      "display_name": "Python 3"
    },
    "language_info": {
      "name": "python"
    }
  },
  "cells": [
    {
      "cell_type": "markdown",
      "source": [
        "# **1)** **CAPITAL** **BUDGETING** **PROBLEM**\n"
      ],
      "metadata": {
        "id": "MoAuzw-GpbfZ"
      }
    },
    {
      "cell_type": "code",
      "source": [
        "def capital_budgeting_dp(max_budget, num_plants, costs, returns):\n",
        "    # Initialize the DP table\n",
        "    dp = [[0 for _ in range(max_budget + 1)] for _ in range(num_plants + 1)]\n",
        "    allocation = [[[] for _ in range(max_budget + 1)] for _ in range(num_plants + 1)]\n",
        "    # Iterate over each plant\n",
        "    for i in range(1, num_plants + 1):\n",
        "        # Iterate over each budget from max_budget to 0\n",
        "        for j in range(max_budget, -1, -1):\n",
        "            # Iterate over each alternate\n",
        "            for k in range(len(costs[i-1])):\n",
        "                cost = costs[i-1][k]\n",
        "                rtn = returns[i-1][k]\n",
        "                if j >= cost:\n",
        "                    if dp[i][j] < dp[i-1][j-cost] + rtn:\n",
        "                        dp[i][j] = dp[i-1][j-cost] + rtn\n",
        "                        allocation[i][j] = allocation[i-1][j-cost] + [(i, k)]\n",
        "    return dp[num_plants][max_budget], allocation[num_plants][max_budget]\n",
        "# Define the parameters\n",
        "max_budget = 5\n",
        "num_plants = 3\n",
        "costs = [\n",
        "    [0, 1, 2, 4],  # Costs for Plant 1\n",
        "    [0, 2, 3, 4],  # Costs for Plant 2\n",
        "    [0, 1, 2]      # Costs for Plant 3\n",
        "]\n",
        "returns = [\n",
        "    [0, 15, 18, 28],  # Returns for Plant 1\n",
        "    [0, 14, 18, 21],  # Returns for Plant 2\n",
        "    [0, 3, 7]         # Returns for Plant 3\n",
        "]\n",
        "# Calculate the maximum return and allocations\n",
        "max_return, allocations = capital_budgeting_dp(max_budget, num_plants, costs, returns)\n",
        "print(f\"The maximum return possible with a budget of {max_budget} crores is {max_return} crores.\")\n",
        "print(\"The stage-wise allocations are:\")\n",
        "for alloc in allocations:\n",
        "    plant, alternate = alloc\n",
        "    print(f\"Plant -  {plant}, Alternate -  {alternate+1}, Cost: {costs[plant-1][alternate]}, Return: {returns[plant-1][alternate]}\")"
      ],
      "metadata": {
        "colab": {
          "base_uri": "https://localhost:8080/",
          "height": 0
        },
        "id": "tE46_AaEn5sD",
        "outputId": "a127194c-b789-4806-fde3-3558fed62021"
      },
      "execution_count": 26,
      "outputs": [
        {
          "output_type": "stream",
          "name": "stdout",
          "text": [
            "The maximum return possible with a budget of 5 crores is 36 crores.\n",
            "The stage-wise allocations are:\n",
            "Plant -  1, Alternate -  3, Cost: 2, Return: 18\n",
            "Plant -  2, Alternate -  3, Cost: 3, Return: 18\n",
            "Plant -  3, Alternate -  1, Cost: 0, Return: 0\n"
          ]
        }
      ]
    },
    {
      "cell_type": "markdown",
      "source": [
        "# **2** **)** **PRODUCT** **ALLOCATION** **PROBLEM**"
      ],
      "metadata": {
        "id": "kOKGaAFGqFrB"
      }
    },
    {
      "cell_type": "code",
      "source": [
        "def optimal_allocation(num_salesmen, num_zones, returns):\n",
        "    # Initialize the DP table\n",
        "    dp = [[0 for _ in range(num_salesmen + 1)] for _ in range(num_zones + 1)]\n",
        "    allocation = [[[] for _ in range(num_salesmen + 1)] for _ in range(num_zones + 1)]\n",
        "    # Iterate over each zone\n",
        "    for i in range(1, num_zones + 1):\n",
        "        # Iterate over each number of salesmen from 0 to num_salesmen\n",
        "        for j in range(num_salesmen + 1):\n",
        "            # Iterate over each possible number of salesmen in the current zone\n",
        "            for k in range(min(j + 1, len(returns[i - 1]))):\n",
        "                profit = returns[i-1][k]\n",
        "                if dp[i][j] < dp[i-1][j-k] + profit:\n",
        "                    dp[i][j] = dp[i-1][j-k] + profit\n",
        "                    allocation[i][j] = allocation[i-1][j-k] + [(i, k)]\n",
        "    return dp[num_zones][num_salesmen], allocation[num_zones][num_salesmen]\n",
        "# Define the parameters\n",
        "num_salesmen = 9\n",
        "num_zones = 4\n",
        "returns = [\n",
        "    [45, 58, 70, 82, 93, 101, 108, 113, 118],  # sales for Zone 1\n",
        "    [30, 45, 60, 70, 79, 90, 98, 105, 110],  # sales for Zone 2\n",
        "    [35, 45, 52, 64, 72, 82, 93, 98, 100],  # sales for Zone 3\n",
        "    [42, 54, 60, 70, 82, 95, 102, 110, 110]   # sales for Zone 4\n",
        "]\n",
        "# Calculate the maximum return and allocations\n",
        "max_return, allocations = optimal_allocation(num_salesmen, num_zones, returns)\n",
        "print(f\"The maximum return possible with {num_salesmen} salesmen is {max_return}.\")\n",
        "print(\"The optimal allocation is as follows:\")\n",
        "for alloc in allocations:\n",
        "    zone, salesmen = alloc\n",
        "    print(f\"Zone {zone}, Salesmen: {salesmen}\")"
      ],
      "metadata": {
        "id": "m5IwCjI2qcgD",
        "colab": {
          "base_uri": "https://localhost:8080/",
          "height": 0
        },
        "outputId": "30d58db8-6fbc-4eb0-d3e6-e4efa1b359d1"
      },
      "execution_count": 27,
      "outputs": [
        {
          "output_type": "stream",
          "name": "stdout",
          "text": [
            "The maximum return possible with 9 salesmen is 262.\n",
            "The optimal allocation is as follows:\n",
            "Zone 1, Salesmen: 4\n",
            "Zone 2, Salesmen: 3\n",
            "Zone 3, Salesmen: 1\n",
            "Zone 4, Salesmen: 1\n"
          ]
        }
      ]
    }
  ]
}